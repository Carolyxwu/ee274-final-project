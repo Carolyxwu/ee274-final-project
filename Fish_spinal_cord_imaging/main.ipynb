{
 "cells": [
  {
   "cell_type": "code",
   "execution_count": 64,
   "id": "c520ec81-5614-4f70-b71a-b2a469a940be",
   "metadata": {
    "tags": []
   },
   "outputs": [],
   "source": [
    "%run compress_zstd.py 'double_fish_1_after'\n",
    "%run compress_zstd.py 'double_fish_1_before'\n",
    "%run compress_zstd.py 'double_fish_2_after'\n",
    "%run compress_zstd.py 'double_fish_2_before'\n",
    "%run compress_zstd.py 'double_fish_3_after'\n",
    "%run compress_zstd.py 'double_fish_3_before'\n",
    "%run compress_zstd.py 'single_cutA_after'\n",
    "%run compress_zstd.py 'single_cutA_before'\n",
    "%run compress_zstd.py 'single_cutM_after'\n",
    "%run compress_zstd.py 'single_cutM_before'\n",
    "%run compress_zstd.py 'single_cutP_after'\n",
    "%run compress_zstd.py 'single_cutP_before'"
   ]
  },
  {
   "cell_type": "code",
   "execution_count": 65,
   "id": "19c8f08c-6b05-4dcb-91b5-aa709ea88154",
   "metadata": {
    "tags": []
   },
   "outputs": [],
   "source": [
    "%run compress_gzip.py 'double_fish_1_after'\n",
    "%run compress_gzip.py 'double_fish_1_before'\n",
    "%run compress_gzip.py 'double_fish_2_after'\n",
    "%run compress_gzip.py 'double_fish_2_before'\n",
    "%run compress_gzip.py 'double_fish_3_after'\n",
    "%run compress_gzip.py 'double_fish_3_before'\n",
    "%run compress_gzip.py 'single_cutA_after'\n",
    "%run compress_gzip.py 'single_cutA_before'\n",
    "%run compress_gzip.py 'single_cutM_after'\n",
    "%run compress_gzip.py 'single_cutM_before'\n",
    "%run compress_gzip.py 'single_cutP_after'\n",
    "%run compress_gzip.py 'single_cutP_before'"
   ]
  },
  {
   "cell_type": "code",
   "execution_count": 60,
   "id": "c25475e0-d511-4f98-9d15-811a8b25ff46",
   "metadata": {
    "tags": []
   },
   "outputs": [],
   "source": [
    "%run compress_h264.py 'double_fish_1_after'\n",
    "%run compress_h264.py 'double_fish_1_before'\n",
    "%run compress_h264.py 'double_fish_2_after'\n",
    "%run compress_h264.py 'double_fish_2_before'\n",
    "%run compress_h264.py 'double_fish_3_after'\n",
    "%run compress_h264.py 'double_fish_3_before'\n",
    "%run compress_h264.py 'single_cutA_after'\n",
    "%run compress_h264.py 'single_cutA_before'\n",
    "%run compress_h264.py 'single_cutM_after'\n",
    "%run compress_h264.py 'single_cutM_before'\n",
    "%run compress_h264.py 'single_cutP_after'\n",
    "%run compress_h264.py 'single_cutP_before'"
   ]
  },
  {
   "cell_type": "code",
   "execution_count": 58,
   "id": "76623c28-0e1a-44bb-956d-75477930ae1a",
   "metadata": {
    "tags": []
   },
   "outputs": [],
   "source": [
    "# The difference between compress_h264.py and compress_h264_2.py is that compress_h264.py uses the spatial imformation of the cells but compress_h264_2.py does not\n",
    "# compress_h264.py takes longer to run \n",
    "# In the final report, we only analysis the results of compress_h264.py.\n",
    "\n",
    "%run compress_h264_2.py 'double_fish_1_after'\n",
    "%run compress_h264_2.py 'double_fish_1_before'\n",
    "%run compress_h264_2.py 'double_fish_2_after'\n",
    "%run compress_h264_2.py 'double_fish_2_before'\n",
    "%run compress_h264_2.py 'double_fish_3_after'\n",
    "%run compress_h264_2.py 'double_fish_3_before'\n",
    "%run compress_h264_2.py 'single_cutA_before'\n",
    "%run compress_h264_2.py 'single_cutA_after'\n",
    "%run compress_h264_2.py 'single_cutM_before'\n",
    "%run compress_h264_2.py 'single_cutM_after'\n",
    "%run compress_h264_2.py 'single_cutP_before'\n",
    "%run compress_h264_2.py 'single_cutP_after'"
   ]
  },
  {
   "cell_type": "code",
   "execution_count": null,
   "id": "2feeafcf-0608-4c46-9d96-7f589d33df06",
   "metadata": {},
   "outputs": [],
   "source": []
  }
 ],
 "metadata": {
  "kernelspec": {
   "display_name": "Python 3 (ipykernel)",
   "language": "python",
   "name": "python3"
  },
  "language_info": {
   "codemirror_mode": {
    "name": "ipython",
    "version": 3
   },
   "file_extension": ".py",
   "mimetype": "text/x-python",
   "name": "python",
   "nbconvert_exporter": "python",
   "pygments_lexer": "ipython3",
   "version": "3.10.6"
  }
 },
 "nbformat": 4,
 "nbformat_minor": 5
}

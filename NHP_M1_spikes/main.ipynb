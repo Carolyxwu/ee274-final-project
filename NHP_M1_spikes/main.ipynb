{
 "cells": [
  {
   "cell_type": "code",
   "execution_count": 7,
   "id": "c25475e0-d511-4f98-9d15-811a8b25ff46",
   "metadata": {
    "tags": []
   },
   "outputs": [
    {
     "name": "stdout",
     "output_type": "stream",
     "text": [
      "the number of trials in runID_data is 1502\n",
      "the number of trials in runID_data is 1499\n",
      "the number of trials in runID_data is 1500\n",
      "the number of trials in runID_data is 1501\n",
      "the number of trials in runID_data is 1501\n",
      "the number of trials in runID_data is 1507\n",
      "the number of trials in runID_data is 1502\n",
      "the number of trials in runID_data is 1502\n",
      "the number of trials in runID_data is 1501\n",
      "the number of trials in runID_data is 1502\n",
      "the number of trials in runID_data is 1502\n",
      "the number of trials in runID_data is 1502\n",
      "the number of trials in runID_data is 1502\n"
     ]
    }
   ],
   "source": [
    "%run compress_gzip.py 'U201128_01'\n",
    "%run compress_gzip.py 'U201129_01'\n",
    "%run compress_gzip.py 'U201130_01'\n",
    "%run compress_gzip.py 'U201201_01'\n",
    "%run compress_gzip.py 'U201202_01'\n",
    "%run compress_gzip.py 'U201203_01'\n",
    "%run compress_gzip.py 'U201204_01'\n",
    "%run compress_gzip.py 'U201205_01'\n",
    "%run compress_gzip.py 'U201206_01'\n",
    "%run compress_gzip.py 'U201207_01'\n",
    "%run compress_gzip.py 'U201208_01'\n",
    "%run compress_gzip.py 'U201209_01'\n",
    "%run compress_gzip.py 'U201210_01'"
   ]
  },
  {
   "cell_type": "code",
   "execution_count": 8,
   "id": "4c7db99d-8d0a-4849-acda-dee8158611cf",
   "metadata": {
    "tags": []
   },
   "outputs": [
    {
     "name": "stdout",
     "output_type": "stream",
     "text": [
      "the number of trials in runID_data is 1502\n",
      "the number of trials in runID_data is 1499\n",
      "the number of trials in runID_data is 1500\n",
      "the number of trials in runID_data is 1501\n",
      "the number of trials in runID_data is 1501\n",
      "the number of trials in runID_data is 1507\n",
      "the number of trials in runID_data is 1502\n",
      "the number of trials in runID_data is 1502\n",
      "the number of trials in runID_data is 1501\n",
      "the number of trials in runID_data is 1502\n",
      "the number of trials in runID_data is 1502\n",
      "the number of trials in runID_data is 1502\n",
      "the number of trials in runID_data is 1502\n"
     ]
    }
   ],
   "source": [
    "%run compress_zstd.py 'U201128_01'\n",
    "%run compress_zstd.py 'U201129_01'\n",
    "%run compress_zstd.py 'U201130_01'\n",
    "%run compress_zstd.py 'U201201_01'\n",
    "%run compress_zstd.py 'U201202_01'\n",
    "%run compress_zstd.py 'U201203_01'\n",
    "%run compress_zstd.py 'U201204_01'\n",
    "%run compress_zstd.py 'U201205_01'  \n",
    "%run compress_zstd.py 'U201206_01'\n",
    "%run compress_zstd.py 'U201207_01'\n",
    "%run compress_zstd.py 'U201208_01'\n",
    "%run compress_zstd.py 'U201209_01'\n",
    "%run compress_zstd.py 'U201210_01' # zstd is much slower than gzip"
   ]
  },
  {
   "cell_type": "code",
   "execution_count": null,
   "id": "78621112-e2d2-432e-b57c-d69e6c97659b",
   "metadata": {
    "tags": []
   },
   "outputs": [],
   "source": [
    "%run compress_h264.py 'U201128_01'\n",
    "%run compress_h264.py 'U201129_01'\n",
    "%run compress_h264.py 'U201130_01'\n",
    "%run compress_h264.py 'U201201_01'\n",
    "%run compress_h264.py 'U201202_01'\n",
    "%run compress_h264.py 'U201203_01'\n",
    "%run compress_h264.py 'U201204_01'\n",
    "%run compress_h264.py 'U201205_01'\n",
    "%run compress_h264.py 'U201206_01'\n",
    "%run compress_h264.py 'U201207_01'\n",
    "%run compress_h264.py 'U201208_01'\n",
    "%run compress_h264.py 'U201209_01'\n",
    "%run compress_h264.py 'U201210_01'"
   ]
  },
  {
   "cell_type": "code",
   "execution_count": null,
   "id": "b11297c5-b66d-4c98-9cf0-b745b49b43ef",
   "metadata": {
    "tags": []
   },
   "outputs": [],
   "source": [
    "# this code swaps over different lossy compression level\n",
    "\n",
    "%run compress_h264_rates.py 'U201128_01'\n",
    "%run compress_h264_rates.py 'U201129_01'\n",
    "%run compress_h264_rates.py 'U201130_01'\n",
    "%run compress_h264_rates.py 'U201201_01'\n",
    "%run compress_h264_rates.py 'U201202_01'\n",
    "%run compress_h264_rates.py 'U201203_01'\n",
    "%run compress_h264_rates.py 'U201204_01'\n",
    "%run compress_h264_rates.py 'U201205_01'\n",
    "%run compress_h264_rates.py 'U201206_01'\n",
    "%run compress_h264_rates.py 'U201207_01'\n",
    "%run compress_h264_rates.py 'U201208_01'\n",
    "%run compress_h264_rates.py 'U201209_01'\n",
    "%run compress_h264_rates.py 'U201210_01'"
   ]
  }
 ],
 "metadata": {
  "kernelspec": {
   "display_name": "Python 3 (ipykernel)",
   "language": "python",
   "name": "python3"
  },
  "language_info": {
   "codemirror_mode": {
    "name": "ipython",
    "version": 3
   },
   "file_extension": ".py",
   "mimetype": "text/x-python",
   "name": "python",
   "nbconvert_exporter": "python",
   "pygments_lexer": "ipython3",
   "version": "3.10.6"
  }
 },
 "nbformat": 4,
 "nbformat_minor": 5
}
